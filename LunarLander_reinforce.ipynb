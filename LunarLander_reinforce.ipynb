{
 "cells": [
  {
   "cell_type": "markdown",
   "metadata": {},
   "source": [
    "## Import libraries:"
   ]
  },
  {
   "cell_type": "code",
   "execution_count": 1,
   "metadata": {},
   "outputs": [
    {
     "name": "stdout",
     "output_type": "stream",
     "text": [
      "Requirement already satisfied: gym[box2d] in c:\\users\\mlusv\\anaconda3\\envs\\bmrl\\lib\\site-packages (0.21.0)\n",
      "Requirement already satisfied: numpy>=1.18.0 in c:\\users\\mlusv\\anaconda3\\envs\\bmrl\\lib\\site-packages (from gym[box2d]) (1.19.2)\n",
      "Requirement already satisfied: cloudpickle>=1.2.0 in c:\\users\\mlusv\\anaconda3\\envs\\bmrl\\lib\\site-packages (from gym[box2d]) (2.0.0)\n",
      "Requirement already satisfied: pyglet>=1.4.0 in c:\\users\\mlusv\\anaconda3\\envs\\bmrl\\lib\\site-packages (from gym[box2d]) (1.5.23)\n",
      "Collecting box2d-py==2.3.5\n",
      "  Using cached box2d-py-2.3.5.tar.gz (374 kB)\n",
      "Building wheels for collected packages: box2d-py\n",
      "Note: you may need to restart the kernel to use updated packages.\n"
     ]
    },
    {
     "name": "stderr",
     "output_type": "stream",
     "text": [
      "  ERROR: Command errored out with exit status 1:\n",
      "   command: 'C:\\Users\\mlusv\\anaconda3\\envs\\bmrl\\python.exe' -u -c 'import io, os, sys, setuptools, tokenize; sys.argv[0] = '\"'\"'C:\\\\Users\\\\mlusv\\\\AppData\\\\Local\\\\Temp\\\\pip-install-u6qle_ha\\\\box2d-py_169929e7c3f648a4b22d1d72a6bc0cd1\\\\setup.py'\"'\"'; __file__='\"'\"'C:\\\\Users\\\\mlusv\\\\AppData\\\\Local\\\\Temp\\\\pip-install-u6qle_ha\\\\box2d-py_169929e7c3f648a4b22d1d72a6bc0cd1\\\\setup.py'\"'\"';f = getattr(tokenize, '\"'\"'open'\"'\"', open)(__file__) if os.path.exists(__file__) else io.StringIO('\"'\"'from setuptools import setup; setup()'\"'\"');code = f.read().replace('\"'\"'\\r\\n'\"'\"', '\"'\"'\\n'\"'\"');f.close();exec(compile(code, __file__, '\"'\"'exec'\"'\"'))' bdist_wheel -d 'C:\\Users\\mlusv\\AppData\\Local\\Temp\\pip-wheel-8dil8omw'\n",
      "       cwd: C:\\Users\\mlusv\\AppData\\Local\\Temp\\pip-install-u6qle_ha\\box2d-py_169929e7c3f648a4b22d1d72a6bc0cd1\\\n",
      "  Complete output (16 lines):\n",
      "  Using setuptools (version 61.2.0).\n",
      "  running bdist_wheel\n",
      "  running build\n",
      "  running build_py\n",
      "  creating build\n",
      "  creating build\\lib.win-amd64-3.8\n",
      "  creating build\\lib.win-amd64-3.8\\Box2D\n",
      "  copying library\\Box2D\\Box2D.py -> build\\lib.win-amd64-3.8\\Box2D\n",
      "  copying library\\Box2D\\__init__.py -> build\\lib.win-amd64-3.8\\Box2D\n",
      "  creating build\\lib.win-amd64-3.8\\Box2D\\b2\n",
      "  copying library\\Box2D\\b2\\__init__.py -> build\\lib.win-amd64-3.8\\Box2D\\b2\n",
      "  running build_ext\n",
      "  building 'Box2D._Box2D' extension\n",
      "  swigging Box2D\\Box2D.i to Box2D\\Box2D_wrap.cpp\n",
      "  swig.exe -python -c++ -IBox2D -small -O -includeall -ignoremissing -w201 -globals b2Globals -outdir library\\Box2D -keyword -w511 -D_SWIG_KWARGS -o Box2D\\Box2D_wrap.cpp Box2D\\Box2D.i\n",
      "  error: command 'swig.exe' failed: None\n",
      "  ----------------------------------------\n",
      "  ERROR: Failed building wheel for box2d-py\n",
      "    ERROR: Command errored out with exit status 1:\n",
      "     command: 'C:\\Users\\mlusv\\anaconda3\\envs\\bmrl\\python.exe' -u -c 'import io, os, sys, setuptools, tokenize; sys.argv[0] = '\"'\"'C:\\\\Users\\\\mlusv\\\\AppData\\\\Local\\\\Temp\\\\pip-install-u6qle_ha\\\\box2d-py_169929e7c3f648a4b22d1d72a6bc0cd1\\\\setup.py'\"'\"'; __file__='\"'\"'C:\\\\Users\\\\mlusv\\\\AppData\\\\Local\\\\Temp\\\\pip-install-u6qle_ha\\\\box2d-py_169929e7c3f648a4b22d1d72a6bc0cd1\\\\setup.py'\"'\"';f = getattr(tokenize, '\"'\"'open'\"'\"', open)(__file__) if os.path.exists(__file__) else io.StringIO('\"'\"'from setuptools import setup; setup()'\"'\"');code = f.read().replace('\"'\"'\\r\\n'\"'\"', '\"'\"'\\n'\"'\"');f.close();exec(compile(code, __file__, '\"'\"'exec'\"'\"'))' install --record 'C:\\Users\\mlusv\\AppData\\Local\\Temp\\pip-record-ylkxt3h6\\install-record.txt' --single-version-externally-managed --compile --install-headers 'C:\\Users\\mlusv\\anaconda3\\envs\\bmrl\\Include\\box2d-py'\n",
      "         cwd: C:\\Users\\mlusv\\AppData\\Local\\Temp\\pip-install-u6qle_ha\\box2d-py_169929e7c3f648a4b22d1d72a6bc0cd1\\\n",
      "    Complete output (18 lines):\n",
      "    Using setuptools (version 61.2.0).\n",
      "    running install\n",
      "    C:\\Users\\mlusv\\anaconda3\\envs\\bmrl\\lib\\site-packages\\setuptools\\command\\install.py:34: SetuptoolsDeprecationWarning: setup.py install is deprecated. Use build and pip and other standards-based tools.\n",
      "      warnings.warn(\n",
      "    running build\n",
      "    running build_py\n",
      "    creating build\n",
      "    creating build\\lib.win-amd64-3.8\n",
      "    creating build\\lib.win-amd64-3.8\\Box2D\n",
      "    copying library\\Box2D\\Box2D.py -> build\\lib.win-amd64-3.8\\Box2D\n",
      "    copying library\\Box2D\\__init__.py -> build\\lib.win-amd64-3.8\\Box2D\n"
     ]
    },
    {
     "name": "stdout",
     "output_type": "stream",
     "text": [
      "  Building wheel for box2d-py (setup.py): started\n",
      "  Building wheel for box2d-py (setup.py): finished with status 'error'\n",
      "  Running setup.py clean for box2d-py\n",
      "Failed to build box2d-py\n",
      "Installing collected packages: box2d-py\n",
      "    Running setup.py install for box2d-py: started\n",
      "    Running setup.py install for box2d-py: finished with status 'error'\n"
     ]
    },
    {
     "name": "stderr",
     "output_type": "stream",
     "text": [
      "    creating build\\lib.win-amd64-3.8\\Box2D\\b2\n",
      "    copying library\\Box2D\\b2\\__init__.py -> build\\lib.win-amd64-3.8\\Box2D\\b2\n",
      "    running build_ext\n",
      "    building 'Box2D._Box2D' extension\n",
      "    swigging Box2D\\Box2D.i to Box2D\\Box2D_wrap.cpp\n",
      "    swig.exe -python -c++ -IBox2D -small -O -includeall -ignoremissing -w201 -globals b2Globals -outdir library\\Box2D -keyword -w511 -D_SWIG_KWARGS -o Box2D\\Box2D_wrap.cpp Box2D\\Box2D.i\n",
      "    error: command 'swig.exe' failed: None\n",
      "    ----------------------------------------\n",
      "ERROR: Command errored out with exit status 1: 'C:\\Users\\mlusv\\anaconda3\\envs\\bmrl\\python.exe' -u -c 'import io, os, sys, setuptools, tokenize; sys.argv[0] = '\"'\"'C:\\\\Users\\\\mlusv\\\\AppData\\\\Local\\\\Temp\\\\pip-install-u6qle_ha\\\\box2d-py_169929e7c3f648a4b22d1d72a6bc0cd1\\\\setup.py'\"'\"'; __file__='\"'\"'C:\\\\Users\\\\mlusv\\\\AppData\\\\Local\\\\Temp\\\\pip-install-u6qle_ha\\\\box2d-py_169929e7c3f648a4b22d1d72a6bc0cd1\\\\setup.py'\"'\"';f = getattr(tokenize, '\"'\"'open'\"'\"', open)(__file__) if os.path.exists(__file__) else io.StringIO('\"'\"'from setuptools import setup; setup()'\"'\"');code = f.read().replace('\"'\"'\\r\\n'\"'\"', '\"'\"'\\n'\"'\"');f.close();exec(compile(code, __file__, '\"'\"'exec'\"'\"'))' install --record 'C:\\Users\\mlusv\\AppData\\Local\\Temp\\pip-record-ylkxt3h6\\install-record.txt' --single-version-externally-managed --compile --install-headers 'C:\\Users\\mlusv\\anaconda3\\envs\\bmrl\\Include\\box2d-py' Check the logs for full command output.\n"
     ]
    }
   ],
   "source": [
    "pip install gym[box2d]"
   ]
  },
  {
   "cell_type": "code",
   "execution_count": 2,
   "metadata": {},
   "outputs": [],
   "source": [
    "import os\n",
    "import torch\n",
    "import gym\n",
    "import matplotlib.pyplot as plt\n",
    "from tqdm import tqdm\n",
    "from torch import nn as nn\n",
    "from torch.optim import AdamW\n",
    "import numpy as np\n",
    "from utils import test_policy_network, seed_everything, plot_stats, plot_action_probs\n",
    "from parallel_env import ParallelEnv, ParallelWrapper\n",
    "import statistics as stats"
   ]
  },
  {
   "cell_type": "markdown",
   "metadata": {},
   "source": [
    "## Create and preprocess the environment"
   ]
  },
  {
   "cell_type": "markdown",
   "metadata": {},
   "source": [
    "### Create the environment"
   ]
  },
  {
   "cell_type": "code",
   "execution_count": 3,
   "metadata": {},
   "outputs": [],
   "source": [
    "env = gym.make('LunarLander-v2')"
   ]
  },
  {
   "cell_type": "code",
   "execution_count": 4,
   "metadata": {},
   "outputs": [
    {
     "name": "stdout",
     "output_type": "stream",
     "text": [
      "State dimensions: 8. Actions: 4\n",
      "Sample state: [ 6.1969756e-04  1.4122280e+00  6.2760100e-02  5.8121927e-02\n",
      " -7.1136071e-04 -1.4216095e-02  0.0000000e+00  0.0000000e+00]\n"
     ]
    }
   ],
   "source": [
    "# retrieve number of states and number of actions\n",
    "\n",
    "dims = env.observation_space.shape[0] \n",
    "actions = env.action_space.n "
   ]
  },
  {
   "cell_type": "markdown",
   "metadata": {},
   "source": [
    "### Parallelize the environment"
   ]
  },
  {
   "cell_type": "code",
   "execution_count": 6,
   "metadata": {},
   "outputs": [],
   "source": [
    "num_envs = 8"
   ]
  },
  {
   "cell_type": "code",
   "execution_count": 7,
   "metadata": {},
   "outputs": [],
   "source": [
    "def create_env(env_name):\n",
    "    env = gym.make(env_name)\n",
    "    seed_everything(env)\n",
    "    return env"
   ]
  },
  {
   "cell_type": "code",
   "execution_count": 8,
   "metadata": {},
   "outputs": [],
   "source": [
    "env_fns = [lambda: create_env('LunarLander-v2') for _ in range(num_envs)] \n",
    "\n",
    "# use the function ParallelEnv to create the parallelized environment\n",
    "parallel_env = ParallelEnv(env_fns) "
   ]
  },
  {
   "cell_type": "markdown",
   "metadata": {},
   "source": [
    "### Prepare the environment to work with PyTorch"
   ]
  },
  {
   "cell_type": "code",
   "execution_count": null,
   "metadata": {},
   "outputs": [],
   "source": [
    "class PreprocessEnv(ParallelWrapper):\n",
    "    \n",
    "    def __init__(self, env):\n",
    "        ParallelWrapper.__init__(self, env)\n",
    "    \n",
    "    def reset(self):\n",
    "        state = self.venv.reset()\n",
    "        return torch.from_numpy(state).float()\n",
    "    \n",
    "    def step_async(self, actions):\n",
    "        actions = actions.squeeze().numpy()\n",
    "        self.venv.step_async(actions)\n",
    "     \n",
    "    def step_wait(self):\n",
    "        next_state, reward, done, info = self.venv.step_wait()\n",
    "        next_state = torch.from_numpy(next_state).float()\n",
    "        reward = torch.tensor(reward).unsqueeze(1).float()\n",
    "        done = torch.tensor(done).unsqueeze(1)\n",
    "        return next_state, reward, done, info"
   ]
  },
  {
   "cell_type": "code",
   "execution_count": null,
   "metadata": {},
   "outputs": [],
   "source": [
    "parallel_env = PreprocessEnv(parallel_env)"
   ]
  },
  {
   "cell_type": "markdown",
   "metadata": {},
   "source": [
    "### Create the policy $\\pi(s)$"
   ]
  },
  {
   "cell_type": "markdown",
   "metadata": {},
   "source": [
    "According to the case considered, the policy is adjusted. Therefore, only few example of the used policies are left for conciseness purpose"
   ]
  },
  {
   "cell_type": "code",
   "execution_count": null,
   "metadata": {},
   "outputs": [],
   "source": [
    "policy_C1 = nn.Sequential(\n",
    "    nn.Linear(dims, 64),\n",
    "    nn.ReLU(),\n",
    "    nn.Linear(64, actions),\n",
    "    nn.Softmax(dim=-1))"
   ]
  },
  {
   "cell_type": "code",
   "execution_count": null,
   "metadata": {},
   "outputs": [],
   "source": [
    "policy_A3 = nn.Sequential(\n",
    "    nn.Linear(dims, 256),\n",
    "    nn.Tanh(),\n",
    "    nn.Linear(256, actions),\n",
    "    nn.Softmax(dim=-1))"
   ]
  },
  {
   "cell_type": "code",
   "execution_count": null,
   "metadata": {},
   "outputs": [],
   "source": [
    "policy_A4 = nn.Sequential(\n",
    "    nn.Linear(dims, 512),\n",
    "    nn.Tanh(),\n",
    "    nn.Linear(512, actions),\n",
    "    nn.Softmax(dim=-1))"
   ]
  },
  {
   "cell_type": "code",
   "execution_count": null,
   "metadata": {},
   "outputs": [],
   "source": [
    "policy_D3 = nn.Sequential(\n",
    "    nn.Linear(dims,64),\n",
    "    nn.Tanh(),\n",
    "    nn.Linear(64,32),\n",
    "    nn.Tanh(),\n",
    "    nn.Linear(32, actions),\n",
    "    nn.Softmax(dim=-1))"
   ]
  },
  {
   "cell_type": "markdown",
   "metadata": {},
   "source": [
    "# Create the algorithm"
   ]
  },
  {
   "cell_type": "code",
   "execution_count": null,
   "metadata": {},
   "outputs": [],
   "source": [
    "def reinforce(policy, episodes, alpha=1e-4, gamma=0.99, beta = 0.01):\n",
    "    \n",
    "    # create the object that will update the parameters of the NN. The AdamW class is an improved version of the \n",
    "    #     stochastic gradient descent update rule. \n",
    "    optim = AdamW(policy.parameters(), lr=alpha)\n",
    "    \n",
    "    # declare the dictionary inside which the statistics of the execution of the algorithm are stored\n",
    "    stats = {'PG Loss': [], 'Returns': []}\n",
    "    \n",
    "    # repeat the main loop for every episode, wrapping it with the tqdm function to follow on the screen the execution of the loop\n",
    "    for episode in tqdm(range(1, episodes + 1)):\n",
    "        \n",
    "        # set the parallel environment to receive the initial state of every individual environment\n",
    "        state = parallel_env.reset()\n",
    "        \n",
    "        # boolean column vector that tells whether each of the individual environments has finished the episode or not\n",
    "        done_b = torch.zeros((num_envs, 1), dtype=torch.bool)\n",
    "        \n",
    "        # create a list to store the state transitions\n",
    "        transitions = []\n",
    "        \n",
    "        # used to keep track of the returns of each of the individual episodes\n",
    "        ep_return = torch.zeros((num_envs, 1))\n",
    "\n",
    "        # inner loop to generate the trajectory of experience. The loop goes on until all the episodes are finished\n",
    "        while not done_b.all():\n",
    "            \n",
    "            # the policy selects an action for every individual environment\n",
    "            action = policy(state).multinomial(1).detach()\n",
    "            \n",
    "            # execute the action in the environment and observe the outcome\n",
    "            next_state, reward, done, _ = parallel_env.step(action)\n",
    "            \n",
    "            # store the transition in the list of transitions (if the environment is finished, its reward shouldn't be updated.\n",
    "            #    That's why it's multiplied for ~done_b)\n",
    "            transitions.append([state, action, ~done_b * reward])\n",
    "            \n",
    "            # update the values\n",
    "            ep_return += reward\n",
    "            done_b |= done\n",
    "            state = next_state\n",
    "        \n",
    "        # initialize the return obtained for each parallel environment as a column vector of zeros\n",
    "        G = torch.zeros((num_envs, 1))\n",
    "        \n",
    "        # iterate over each moment of time in reverse order\n",
    "        for t, (state_t, action_t, reward_t) in reversed(list(enumerate(transitions))):\n",
    "            \n",
    "            # update the value of the return\n",
    "            G = reward_t + gamma * G\n",
    "            \n",
    "            # obtain the vector of probabilities for the state of each environment at a certain moment in time\n",
    "            #    and compute its log. \"+ 1e-6\" is added to avoid issues with the log in case of probabilities equal to 0.\n",
    "            probs_t = policy(state_t)\n",
    "            log_probs_t = torch.log(probs_t + 1e-6)\n",
    "            \n",
    "            # choose only the probability of the action acutally taken at time t\n",
    "            action_log_prob_t = log_probs_t.gather(1, action_t)\n",
    "            \n",
    "            # compute the entropy of each vector of probabilities at time t\n",
    "            entropy_t = - torch.sum(probs_t * log_probs_t, dim=-1, keepdim=True)\n",
    "            \n",
    "            # compute the estimate of the policy performance. The minus sign comes from the fact that the AdamW optimizer\n",
    "            #    can only perform gradient descent, but in the REINFORCE algorithm gradient ascent is performed.\n",
    "            gamma_t = gamma ** t\n",
    "            pg_loss_t = - gamma_t * action_log_prob_t * G\n",
    "            \n",
    "            # subtract the entropy scaled by beta and compute the mean over every environment that\n",
    "            #   the agent is facing in parallel\n",
    "            total_loss_t = (pg_loss_t - beta * entropy_t).mean()\n",
    "            \n",
    "            # wipe the gradients of the NN\n",
    "            policy.zero_grad()\n",
    "            \n",
    "            # use the backpropagation algorithm to compute the gradient of the loss function with respect to\n",
    "            #    each of the NN parameters\n",
    "            total_loss_t.backward()\n",
    "            \n",
    "            # update the NN parameters\n",
    "            optim.step()\n",
    "        \n",
    "        # update the dictionary with the statistics\n",
    "        stats['PG Loss'].append(total_loss_t.item())\n",
    "        stats['Returns'].append(ep_return.mean().item())\n",
    "        \n",
    "\n",
    "    return stats"
   ]
  },
  {
   "cell_type": "markdown",
   "metadata": {},
   "source": [
    "# Results"
   ]
  },
  {
   "cell_type": "markdown",
   "metadata": {},
   "source": [
    "## Create the filtering function "
   ]
  },
  {
   "cell_type": "code",
   "execution_count": null,
   "metadata": {},
   "outputs": [],
   "source": [
    "def filter_values(values, window=10):\n",
    "    weight = np.repeat(1.0, window)/window\n",
    "    smas = np.convolve(values,weight,'valid')\n",
    "    return filtered_values"
   ]
  },
  {
   "cell_type": "markdown",
   "metadata": {},
   "source": [
    "## Policy A3"
   ]
  },
  {
   "cell_type": "code",
   "execution_count": null,
   "metadata": {},
   "outputs": [],
   "source": [
    "# apply the reiforce algorithm with policy A3 for 10000 episodes\n",
    "\n",
    "A3 = reinforce(policy_A3, 10000)"
   ]
  },
  {
   "cell_type": "code",
   "execution_count": null,
   "metadata": {},
   "outputs": [],
   "source": [
    "# save the returns and the filtered returns\n",
    "\n",
    "returns_A3 = A3[\"Returns\"]\n",
    "filtered_A3 = filter_values(returns_A3)"
   ]
  },
  {
   "cell_type": "code",
   "execution_count": null,
   "metadata": {},
   "outputs": [],
   "source": [
    "# plot the results\n",
    "\n",
    "fig, ax = plt.subplots(figsize=(10,5))\n",
    "ax.plot(returns_A3)\n",
    "ax.plot(filtered_A3)\n",
    "plt.axhline(y = 195,color = 'g')\n",
    "ax.set_ylabel('Returns')\n",
    "ax.set_xlabel('Episodes')\n",
    "ax.set_title('Policy A3')\n",
    "p = stats.mean(returns_A3[1000:-1])\n",
    "plt.axhline(y = p, color = 'r')\n",
    "plt.legend(['Returns','Filtered Returns','Target Return','Average from 1000th episode'])"
   ]
  },
  {
   "cell_type": "markdown",
   "metadata": {},
   "source": [
    "## Policy C1"
   ]
  },
  {
   "cell_type": "code",
   "execution_count": null,
   "metadata": {},
   "outputs": [],
   "source": [
    "C1 = reinforce(policy_C1, 10000)"
   ]
  },
  {
   "cell_type": "code",
   "execution_count": null,
   "metadata": {},
   "outputs": [],
   "source": [
    "returns_C1 = C1[\"Returns\"]\n",
    "filtered_C1 = filter_values(returns_C1)"
   ]
  },
  {
   "cell_type": "code",
   "execution_count": null,
   "metadata": {},
   "outputs": [],
   "source": [
    "fig, ax = plt.subplots(figsize=(10,5))\n",
    "\n",
    "ax.plot(returns_C1)\n",
    "ax.plot(filtered_C1)\n",
    "plt.axhline(y = 195,color = 'g')\n",
    "ax.set_ylabel('Returns')\n",
    "ax.set_xlabel('Episodes')\n",
    "ax.set_title('Policy C1')\n",
    "p = stats.mean(returns_C1[1000:-1])\n",
    "plt.axhline(y = p, color = 'r')\n",
    "plt.legend(['Returns','Filtered Returns','Target Return','Average from 1000th episode'])"
   ]
  },
  {
   "cell_type": "markdown",
   "metadata": {},
   "source": [
    "## Policy A4"
   ]
  },
  {
   "cell_type": "code",
   "execution_count": null,
   "metadata": {},
   "outputs": [],
   "source": [
    "A4 = reinforce(policy_A4, 10000)"
   ]
  },
  {
   "cell_type": "code",
   "execution_count": null,
   "metadata": {},
   "outputs": [],
   "source": [
    "returns_A4 = A4[\"Returns\"]\n",
    "filtered_A4 = filter_values(returns_A4)"
   ]
  },
  {
   "cell_type": "code",
   "execution_count": null,
   "metadata": {},
   "outputs": [],
   "source": [
    "fig, ax = plt.subplots(figsize=(10,5))\n",
    "\n",
    "ax.plot(returns_A4)\n",
    "ax.plot(filtered_A4)\n",
    "plt.axhline(y = 195,color = 'g')\n",
    "ax.set_ylabel('Returns')\n",
    "ax.set_xlabel('Episodes')\n",
    "ax.set_title('Policy A4')\n",
    "p = stats.mean(returns_A4[1000:-1])\n",
    "plt.axhline(y = p, color = 'r')\n",
    "plt.legend(['Returns','Filtered Returns','Target Return','Average from 1000th episode'])"
   ]
  },
  {
   "cell_type": "markdown",
   "metadata": {},
   "source": [
    "## Policy D3"
   ]
  },
  {
   "cell_type": "code",
   "execution_count": null,
   "metadata": {},
   "outputs": [],
   "source": [
    "D3 = reinforce(policy_D3, 5000)"
   ]
  },
  {
   "cell_type": "code",
   "execution_count": null,
   "metadata": {},
   "outputs": [],
   "source": [
    "returns_D3 = D3[\"Returns\"]\n",
    "filtered_D3 = filter_values(returns_D3)"
   ]
  },
  {
   "cell_type": "code",
   "execution_count": null,
   "metadata": {},
   "outputs": [],
   "source": [
    "fig, ax = plt.subplots(figsize=(10,5))\n",
    "\n",
    "ax.plot(returns_D3)\n",
    "ax.plot(filtered_D3)\n",
    "plt.axhline(y = 195,color = 'g')\n",
    "ax.set_ylabel('Returns')\n",
    "ax.set_xlabel('Episodes')\n",
    "ax.set_title('Policy D3')\n",
    "p = stats.mean(returns_D3[1000:-1])\n",
    "plt.axhline(y = p, color = 'r')\n",
    "plt.legend(['Returns','Filtered Returns','Target Return','Average from 1000th episode'])"
   ]
  },
  {
   "cell_type": "markdown",
   "metadata": {},
   "source": [
    "# Test Network"
   ]
  },
  {
   "cell_type": "markdown",
   "metadata": {},
   "source": [
    "Select in the next cell the policy that needs to be tested"
   ]
  },
  {
   "cell_type": "code",
   "execution_count": null,
   "metadata": {},
   "outputs": [],
   "source": [
    "# select the name of the policy that needs to be tested\n",
    "policy = policy_A4"
   ]
  },
  {
   "cell_type": "code",
   "execution_count": null,
   "metadata": {},
   "outputs": [],
   "source": [
    "test_policy_network(env, policy, episodes=1)"
   ]
  }
 ],
 "metadata": {
  "kernelspec": {
   "display_name": "Python 3 (ipykernel)",
   "language": "python",
   "name": "python3"
  },
  "language_info": {
   "codemirror_mode": {
    "name": "ipython",
    "version": 3
   },
   "file_extension": ".py",
   "mimetype": "text/x-python",
   "name": "python",
   "nbconvert_exporter": "python",
   "pygments_lexer": "ipython3",
   "version": "3.8.0"
  }
 },
 "nbformat": 4,
 "nbformat_minor": 1
}
